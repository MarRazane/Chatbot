{
  "cells": [
    {
      "cell_type": "markdown",
      "metadata": {
        "id": "9gRWrL3wvvM5"
      },
      "source": [
        "## Import and Load data file"
      ]
    },
    {
      "cell_type": "code",
      "execution_count": 24,
      "metadata": {
        "id": "QMFBf1kuvvM7"
      },
      "outputs": [],
      "source": [
        "import nltk\n",
        "from nltk.stem import WordNetLemmatizer\n",
        "lemmatizer = WordNetLemmatizer()\n",
        "import json\n",
        "import pickle\n",
        "\n",
        "import numpy as np\n",
        "from keras.models import Sequential\n",
        "from keras.layers import Dense, Activation, Dropout\n",
        "from keras.optimizers import SGD\n",
        "import random\n",
        "\n",
        "words=[]\n",
        "classes = []\n",
        "documents = []\n",
        "ignore_words = ['?', '!']\n",
        "data_file = open('/content/intents.json').read()\n",
        "intents = json.loads(data_file)"
      ]
    },
    {
      "cell_type": "markdown",
      "metadata": {
        "id": "0VLhaoxJvvM9"
      },
      "source": [
        "## Pre-process data"
      ]
    },
    {
      "cell_type": "markdown",
      "metadata": {
        "id": "ZhJ8I-a_vvM-"
      },
      "source": [
        "Here we iterate through the patterns and tokenize the sentence using nltk.word_tokenize() function and append each word in the words list. We also create a list of classes for our tags."
      ]
    },
    {
      "cell_type": "code",
      "source": [
        "import nltk\n",
        "nltk.download('punkt')\n"
      ],
      "metadata": {
        "colab": {
          "base_uri": "https://localhost:8080/"
        },
        "id": "EvEYub742nj2",
        "outputId": "c449b634-0965-4133-9a86-6e68d176ed6c"
      },
      "execution_count": 25,
      "outputs": [
        {
          "output_type": "stream",
          "name": "stderr",
          "text": [
            "[nltk_data] Downloading package punkt to /root/nltk_data...\n",
            "[nltk_data]   Package punkt is already up-to-date!\n"
          ]
        },
        {
          "output_type": "execute_result",
          "data": {
            "text/plain": [
              "True"
            ]
          },
          "metadata": {},
          "execution_count": 25
        }
      ]
    },
    {
      "cell_type": "code",
      "execution_count": 26,
      "metadata": {
        "id": "-kDTWrpkvvM-"
      },
      "outputs": [],
      "source": [
        "for intent in intents['intents']:\n",
        "    for pattern in intent['patterns']:\n",
        "\n",
        "        #tokenize each word\n",
        "        w = nltk.word_tokenize(pattern)\n",
        "        words.extend(w)\n",
        "        #add documents in the corpus\n",
        "        documents.append((w, intent['tag']))\n",
        "\n",
        "        # add to our classes list\n",
        "        if intent['tag'] not in classes:\n",
        "            classes.append(intent['tag'])"
      ]
    },
    {
      "cell_type": "markdown",
      "metadata": {
        "id": "PI04yg3XvvM_"
      },
      "source": [
        "lemmatize each word and remove duplicate words from the list"
      ]
    },
    {
      "cell_type": "code",
      "source": [
        "import nltk\n",
        "nltk.download('wordnet')\n"
      ],
      "metadata": {
        "colab": {
          "base_uri": "https://localhost:8080/"
        },
        "id": "MekdpGYN3Cax",
        "outputId": "f3cfd70e-8b1e-4eef-8932-4bba62bc2e47"
      },
      "execution_count": 27,
      "outputs": [
        {
          "output_type": "stream",
          "name": "stderr",
          "text": [
            "[nltk_data] Downloading package wordnet to /root/nltk_data...\n",
            "[nltk_data]   Package wordnet is already up-to-date!\n"
          ]
        },
        {
          "output_type": "execute_result",
          "data": {
            "text/plain": [
              "True"
            ]
          },
          "metadata": {},
          "execution_count": 27
        }
      ]
    },
    {
      "cell_type": "code",
      "execution_count": 28,
      "metadata": {
        "colab": {
          "base_uri": "https://localhost:8080/"
        },
        "id": "Sp0xEa3-vvM_",
        "outputId": "ea041353-a6b4-44ca-8c01-d1e5498f27a6"
      },
      "outputs": [
        {
          "output_type": "stream",
          "name": "stdout",
          "text": [
            "105 documents\n",
            "22 classes ['cancel', 'confirm', 'delay', 'delivery', 'goodbye', 'greeting', 'items', 'mobile app', 'more', 'order status', 'payments', 'personal', 'profile info', 'reasons', 'refund', 'refund status', 'return', 'thanks', 'track', 'use voucher', 'user response', 'withdraw refunds']\n",
            "145 unique lemmatized words [\"'m\", \"'s\", '.', 'a', 'about', 'accept', 'account', 'address', 'agent', 'am', 'an', 'any', 'anyone', 'app', 'are', 'available', 'be', 'become', 'but', 'buy', 'bye', 'call', 'can', 'cancel', 'cancelled', 'card', 'cash', 'change', 'common', 'completed', 'confirmation', 'confirmed', 'contact', 'credit', 'credited', 'customer', 'day', 'deducted', 'delay', 'delayed', 'delete', 'delivered', 'delivery', 'did', 'do', 'doe', 'doing', 'download', 'even', 'for', 'from', 'fund', 'get', 'good', 'goodbye', 'have', 'hello', 'help', 'helpful', 'helpline', 'hey', 'hi', 'how', 'i', 'im', 'information', 'is', 'it', 'item', 'kind', 'know', 'later', 'long', 'lot', 'mastercard', 'me', 'method', 'mobile', 'money', 'more', 'my', \"n't\", 'need', 'no', 'not', 'number', 'of', 'offer', 'okay', 'only', 'order', 'password', 'pay', 'payment', 'phone', 'please', 'processed', 'profile', 'reason', 'receive', 'received', 'refund', 'refunded', 'reset', 'return', 'returned', 'say', 'see', 'sell', 'seller', 'service', 'shipping', 'should', 'status', 'successfully', 'support', 'take', 'talk', 'tell', 'thank', 'thanks', 'that', 'the', 'there', 'this', 'thnks', 'though', 'thx', 'to', 'track', 'use', 'voucher', 'wa', 'wallet', 'want', 'what', 'when', 'which', 'why', 'will', 'with', 'withdraw', 'yet', 'you', 'your']\n"
          ]
        }
      ],
      "source": [
        "# lemmatize, lower each word and remove duplicates\n",
        "words = [lemmatizer.lemmatize(w.lower()) for w in words if w not in ignore_words]\n",
        "words = sorted(list(set(words)))\n",
        "# sort classes\n",
        "classes = sorted(list(set(classes)))\n",
        "# documents = combination between patterns and intents\n",
        "print (len(documents), \"documents\")\n",
        "# classes = intents\n",
        "print (len(classes), \"classes\", classes)\n",
        "# words = all words, vocabulary\n",
        "print (len(words), \"unique lemmatized words\", words)\n",
        "\n",
        "pickle.dump(words,open('words.pkl','wb'))\n",
        "pickle.dump(classes,open('classes.pkl','wb'))"
      ]
    },
    {
      "cell_type": "markdown",
      "metadata": {
        "id": "ZP5rJUt4vvNB"
      },
      "source": [
        "## Create training and testing data"
      ]
    },
    {
      "cell_type": "code",
      "execution_count": 37,
      "metadata": {
        "colab": {
          "base_uri": "https://localhost:8080/"
        },
        "id": "BzvBzzsVvvNC",
        "outputId": "4fa65d58-596b-42b6-a5e4-a7f9792ec783"
      },
      "outputs": [
        {
          "output_type": "stream",
          "name": "stdout",
          "text": [
            "Training data created\n"
          ]
        }
      ],
      "source": [
        "# Create training data in a format suitable for the model\n",
        "training = []\n",
        "output_empty = [0] * len(classes)\n",
        "\n",
        "# Iterate through documents to create training data\n",
        "for doc in documents:\n",
        "    # initialize our bag of words\n",
        "    bag = []\n",
        "    # list of tokenized words for the pattern\n",
        "    pattern_words = doc[0]\n",
        "    # lemmatize each word - create base word, in an attempt to represent related words\n",
        "    pattern_words = [lemmatizer.lemmatize(word.lower()) for word in pattern_words]\n",
        "\n",
        "    # Create a bag of words for the current pattern\n",
        "    for w in words:\n",
        "        bag.append(1) if w in pattern_words else bag.append(0)\n",
        "\n",
        "    # output is a '0' for each tag and '1' for the current tag (for each pattern)\n",
        "    output_row = list(output_empty)\n",
        "    output_row[classes.index(doc[1])] = 1\n",
        "\n",
        "    # Append the bag of words and output row as a tuple to the training data\n",
        "    training.append((bag, output_row))\n",
        "\n",
        "# Shuffle our features\n",
        "random.shuffle(training)\n",
        "\n",
        "# Convert training data to a numpy array\n",
        "training = np.array(training, dtype=object)\n",
        "\n",
        "# Extract train_x (patterns) and train_y (intents)\n",
        "train_x = list(training[:, 0])\n",
        "train_y = list(training[:, 1])\n",
        "\n",
        "print(\"Training data created\")\n"
      ]
    },
    {
      "cell_type": "markdown",
      "metadata": {
        "id": "g7qzVOn4vvNC"
      },
      "source": [
        "## Create Model"
      ]
    },
    {
      "cell_type": "code",
      "execution_count": 39,
      "metadata": {
        "colab": {
          "base_uri": "https://localhost:8080/"
        },
        "id": "IwgimxtEvvND",
        "outputId": "ff2342f4-7c6e-4d87-84e3-614913d350ea"
      },
      "outputs": [
        {
          "output_type": "stream",
          "name": "stdout",
          "text": [
            "Epoch 1/200\n",
            "21/21 [==============================] - 2s 2ms/step - loss: 3.1102 - accuracy: 0.0667 \n",
            "Epoch 2/200\n",
            "21/21 [==============================] - 0s 2ms/step - loss: 2.9914 - accuracy: 0.1143\n",
            "Epoch 3/200\n",
            "21/21 [==============================] - 0s 2ms/step - loss: 2.9456 - accuracy: 0.1238\n",
            "Epoch 4/200\n",
            "21/21 [==============================] - 0s 2ms/step - loss: 2.8455 - accuracy: 0.1810\n",
            "Epoch 5/200\n",
            "21/21 [==============================] - 0s 2ms/step - loss: 2.7401 - accuracy: 0.2095\n",
            "Epoch 6/200\n",
            "21/21 [==============================] - 0s 2ms/step - loss: 2.5815 - accuracy: 0.2476\n",
            "Epoch 7/200\n",
            "21/21 [==============================] - 0s 2ms/step - loss: 2.4788 - accuracy: 0.3048\n",
            "Epoch 8/200\n",
            "21/21 [==============================] - 0s 2ms/step - loss: 2.2182 - accuracy: 0.3333\n",
            "Epoch 9/200\n",
            "21/21 [==============================] - 0s 2ms/step - loss: 2.1468 - accuracy: 0.3905\n",
            "Epoch 10/200\n",
            "21/21 [==============================] - 0s 2ms/step - loss: 2.0353 - accuracy: 0.3810\n",
            "Epoch 11/200\n",
            "21/21 [==============================] - 0s 2ms/step - loss: 1.8987 - accuracy: 0.4381\n",
            "Epoch 12/200\n",
            "21/21 [==============================] - 0s 2ms/step - loss: 1.8137 - accuracy: 0.5238\n",
            "Epoch 13/200\n",
            "21/21 [==============================] - 0s 2ms/step - loss: 1.5026 - accuracy: 0.6190\n",
            "Epoch 14/200\n",
            "21/21 [==============================] - 0s 2ms/step - loss: 1.4484 - accuracy: 0.5810\n",
            "Epoch 15/200\n",
            "21/21 [==============================] - 0s 2ms/step - loss: 1.3308 - accuracy: 0.5905\n",
            "Epoch 16/200\n",
            "21/21 [==============================] - 0s 2ms/step - loss: 1.2032 - accuracy: 0.6952\n",
            "Epoch 17/200\n",
            "21/21 [==============================] - 0s 2ms/step - loss: 1.1090 - accuracy: 0.6857\n",
            "Epoch 18/200\n",
            "21/21 [==============================] - 0s 2ms/step - loss: 1.0773 - accuracy: 0.6952\n",
            "Epoch 19/200\n",
            "21/21 [==============================] - 0s 2ms/step - loss: 0.9995 - accuracy: 0.7333\n",
            "Epoch 20/200\n",
            "21/21 [==============================] - 0s 2ms/step - loss: 0.8987 - accuracy: 0.7238\n",
            "Epoch 21/200\n",
            "21/21 [==============================] - 0s 2ms/step - loss: 0.9725 - accuracy: 0.6667\n",
            "Epoch 22/200\n",
            "21/21 [==============================] - 0s 2ms/step - loss: 0.7529 - accuracy: 0.7714\n",
            "Epoch 23/200\n",
            "21/21 [==============================] - 0s 2ms/step - loss: 0.7186 - accuracy: 0.7714\n",
            "Epoch 24/200\n",
            "21/21 [==============================] - 0s 2ms/step - loss: 0.7335 - accuracy: 0.7905\n",
            "Epoch 25/200\n",
            "21/21 [==============================] - 0s 2ms/step - loss: 0.6996 - accuracy: 0.7810\n",
            "Epoch 26/200\n",
            "21/21 [==============================] - 0s 2ms/step - loss: 0.6886 - accuracy: 0.8095\n",
            "Epoch 27/200\n",
            "21/21 [==============================] - 0s 2ms/step - loss: 0.6327 - accuracy: 0.8762\n",
            "Epoch 28/200\n",
            "21/21 [==============================] - 0s 2ms/step - loss: 0.5381 - accuracy: 0.8381\n",
            "Epoch 29/200\n",
            "21/21 [==============================] - 0s 2ms/step - loss: 0.7104 - accuracy: 0.7810\n",
            "Epoch 30/200\n",
            "21/21 [==============================] - 0s 2ms/step - loss: 0.5304 - accuracy: 0.8286\n",
            "Epoch 31/200\n",
            "21/21 [==============================] - 0s 2ms/step - loss: 0.5354 - accuracy: 0.8286\n",
            "Epoch 32/200\n",
            "21/21 [==============================] - 0s 2ms/step - loss: 0.4370 - accuracy: 0.8857\n",
            "Epoch 33/200\n",
            "21/21 [==============================] - 0s 2ms/step - loss: 0.3973 - accuracy: 0.8952\n",
            "Epoch 34/200\n",
            "21/21 [==============================] - 0s 2ms/step - loss: 0.4915 - accuracy: 0.8381\n",
            "Epoch 35/200\n",
            "21/21 [==============================] - 0s 2ms/step - loss: 0.5161 - accuracy: 0.8286\n",
            "Epoch 36/200\n",
            "21/21 [==============================] - 0s 2ms/step - loss: 0.3165 - accuracy: 0.9238\n",
            "Epoch 37/200\n",
            "21/21 [==============================] - 0s 2ms/step - loss: 0.3975 - accuracy: 0.8857\n",
            "Epoch 38/200\n",
            "21/21 [==============================] - 0s 2ms/step - loss: 0.4482 - accuracy: 0.8952\n",
            "Epoch 39/200\n",
            "21/21 [==============================] - 0s 2ms/step - loss: 0.4822 - accuracy: 0.8381\n",
            "Epoch 40/200\n",
            "21/21 [==============================] - 0s 2ms/step - loss: 0.3479 - accuracy: 0.9238\n",
            "Epoch 41/200\n",
            "21/21 [==============================] - 0s 2ms/step - loss: 0.3626 - accuracy: 0.8952\n",
            "Epoch 42/200\n",
            "21/21 [==============================] - 0s 2ms/step - loss: 0.3392 - accuracy: 0.9238\n",
            "Epoch 43/200\n",
            "21/21 [==============================] - 0s 2ms/step - loss: 0.3201 - accuracy: 0.9048\n",
            "Epoch 44/200\n",
            "21/21 [==============================] - 0s 2ms/step - loss: 0.3907 - accuracy: 0.8952\n",
            "Epoch 45/200\n",
            "21/21 [==============================] - 0s 2ms/step - loss: 0.2070 - accuracy: 0.9524\n",
            "Epoch 46/200\n",
            "21/21 [==============================] - 0s 2ms/step - loss: 0.3586 - accuracy: 0.8667\n",
            "Epoch 47/200\n",
            "21/21 [==============================] - 0s 2ms/step - loss: 0.2836 - accuracy: 0.9048\n",
            "Epoch 48/200\n",
            "21/21 [==============================] - 0s 2ms/step - loss: 0.3374 - accuracy: 0.8857\n",
            "Epoch 49/200\n",
            "21/21 [==============================] - 0s 2ms/step - loss: 0.2353 - accuracy: 0.9143\n",
            "Epoch 50/200\n",
            "21/21 [==============================] - 0s 2ms/step - loss: 0.2626 - accuracy: 0.9333\n",
            "Epoch 51/200\n",
            "21/21 [==============================] - 0s 2ms/step - loss: 0.3129 - accuracy: 0.8952\n",
            "Epoch 52/200\n",
            "21/21 [==============================] - 0s 2ms/step - loss: 0.3098 - accuracy: 0.8952\n",
            "Epoch 53/200\n",
            "21/21 [==============================] - 0s 2ms/step - loss: 0.2825 - accuracy: 0.9143\n",
            "Epoch 54/200\n",
            "21/21 [==============================] - 0s 2ms/step - loss: 0.2474 - accuracy: 0.9333\n",
            "Epoch 55/200\n",
            "21/21 [==============================] - 0s 2ms/step - loss: 0.2626 - accuracy: 0.9143\n",
            "Epoch 56/200\n",
            "21/21 [==============================] - 0s 2ms/step - loss: 0.3110 - accuracy: 0.9143\n",
            "Epoch 57/200\n",
            "21/21 [==============================] - 0s 2ms/step - loss: 0.3534 - accuracy: 0.8952\n",
            "Epoch 58/200\n",
            "21/21 [==============================] - 0s 2ms/step - loss: 0.2642 - accuracy: 0.9143\n",
            "Epoch 59/200\n",
            "21/21 [==============================] - 0s 2ms/step - loss: 0.2453 - accuracy: 0.9238\n",
            "Epoch 60/200\n",
            "21/21 [==============================] - 0s 2ms/step - loss: 0.1827 - accuracy: 0.9524\n",
            "Epoch 61/200\n",
            "21/21 [==============================] - 0s 2ms/step - loss: 0.2760 - accuracy: 0.9048\n",
            "Epoch 62/200\n",
            "21/21 [==============================] - 0s 2ms/step - loss: 0.1775 - accuracy: 0.9524\n",
            "Epoch 63/200\n",
            "21/21 [==============================] - 0s 2ms/step - loss: 0.2056 - accuracy: 0.9429\n",
            "Epoch 64/200\n",
            "21/21 [==============================] - 0s 2ms/step - loss: 0.2230 - accuracy: 0.9143\n",
            "Epoch 65/200\n",
            "21/21 [==============================] - 0s 2ms/step - loss: 0.2521 - accuracy: 0.9429\n",
            "Epoch 66/200\n",
            "21/21 [==============================] - 0s 2ms/step - loss: 0.2330 - accuracy: 0.9429\n",
            "Epoch 67/200\n",
            "21/21 [==============================] - 0s 2ms/step - loss: 0.1573 - accuracy: 0.9524\n",
            "Epoch 68/200\n",
            "21/21 [==============================] - 0s 2ms/step - loss: 0.3345 - accuracy: 0.8857\n",
            "Epoch 69/200\n",
            "21/21 [==============================] - 0s 2ms/step - loss: 0.2170 - accuracy: 0.9048\n",
            "Epoch 70/200\n",
            "21/21 [==============================] - 0s 2ms/step - loss: 0.1801 - accuracy: 0.9524\n",
            "Epoch 71/200\n",
            "21/21 [==============================] - 0s 2ms/step - loss: 0.1778 - accuracy: 0.9429\n",
            "Epoch 72/200\n",
            "21/21 [==============================] - 0s 2ms/step - loss: 0.1531 - accuracy: 0.9524\n",
            "Epoch 73/200\n",
            "21/21 [==============================] - 0s 2ms/step - loss: 0.1726 - accuracy: 0.9524\n",
            "Epoch 74/200\n",
            "21/21 [==============================] - 0s 2ms/step - loss: 0.1513 - accuracy: 0.9333\n",
            "Epoch 75/200\n",
            "21/21 [==============================] - 0s 3ms/step - loss: 0.1430 - accuracy: 0.9619\n",
            "Epoch 76/200\n",
            "21/21 [==============================] - 0s 3ms/step - loss: 0.2698 - accuracy: 0.9238\n",
            "Epoch 77/200\n",
            "21/21 [==============================] - 0s 3ms/step - loss: 0.2528 - accuracy: 0.9048\n",
            "Epoch 78/200\n",
            "21/21 [==============================] - 0s 3ms/step - loss: 0.1618 - accuracy: 0.9429\n",
            "Epoch 79/200\n",
            "21/21 [==============================] - 0s 3ms/step - loss: 0.1085 - accuracy: 0.9619\n",
            "Epoch 80/200\n",
            "21/21 [==============================] - 0s 3ms/step - loss: 0.1914 - accuracy: 0.9333\n",
            "Epoch 81/200\n",
            "21/21 [==============================] - 0s 3ms/step - loss: 0.1941 - accuracy: 0.9238\n",
            "Epoch 82/200\n",
            "21/21 [==============================] - 0s 3ms/step - loss: 0.1630 - accuracy: 0.9143\n",
            "Epoch 83/200\n",
            "21/21 [==============================] - 0s 3ms/step - loss: 0.1915 - accuracy: 0.9429\n",
            "Epoch 84/200\n",
            "21/21 [==============================] - 0s 4ms/step - loss: 0.1044 - accuracy: 0.9619\n",
            "Epoch 85/200\n",
            "21/21 [==============================] - 0s 3ms/step - loss: 0.1472 - accuracy: 0.9524\n",
            "Epoch 86/200\n",
            "21/21 [==============================] - 0s 3ms/step - loss: 0.2015 - accuracy: 0.9333\n",
            "Epoch 87/200\n",
            "21/21 [==============================] - 0s 3ms/step - loss: 0.2285 - accuracy: 0.9143\n",
            "Epoch 88/200\n",
            "21/21 [==============================] - 0s 3ms/step - loss: 0.0824 - accuracy: 0.9810\n",
            "Epoch 89/200\n",
            "21/21 [==============================] - 0s 3ms/step - loss: 0.1465 - accuracy: 0.9524\n",
            "Epoch 90/200\n",
            "21/21 [==============================] - 0s 3ms/step - loss: 0.1251 - accuracy: 0.9619\n",
            "Epoch 91/200\n",
            "21/21 [==============================] - 0s 2ms/step - loss: 0.1101 - accuracy: 0.9714\n",
            "Epoch 92/200\n",
            "21/21 [==============================] - 0s 2ms/step - loss: 0.1405 - accuracy: 0.9714\n",
            "Epoch 93/200\n",
            "21/21 [==============================] - 0s 2ms/step - loss: 0.1570 - accuracy: 0.9429\n",
            "Epoch 94/200\n",
            "21/21 [==============================] - 0s 3ms/step - loss: 0.1633 - accuracy: 0.9524\n",
            "Epoch 95/200\n",
            "21/21 [==============================] - 0s 2ms/step - loss: 0.1322 - accuracy: 0.9333\n",
            "Epoch 96/200\n",
            "21/21 [==============================] - 0s 3ms/step - loss: 0.1185 - accuracy: 0.9619\n",
            "Epoch 97/200\n",
            "21/21 [==============================] - 0s 2ms/step - loss: 0.1630 - accuracy: 0.9524\n",
            "Epoch 98/200\n",
            "21/21 [==============================] - 0s 2ms/step - loss: 0.1252 - accuracy: 0.9524\n",
            "Epoch 99/200\n",
            "21/21 [==============================] - 0s 3ms/step - loss: 0.1821 - accuracy: 0.9333\n",
            "Epoch 100/200\n",
            "21/21 [==============================] - 0s 2ms/step - loss: 0.1385 - accuracy: 0.9524\n",
            "Epoch 101/200\n",
            "21/21 [==============================] - 0s 2ms/step - loss: 0.1287 - accuracy: 0.9619\n",
            "Epoch 102/200\n",
            "21/21 [==============================] - 0s 2ms/step - loss: 0.1626 - accuracy: 0.9333\n",
            "Epoch 103/200\n",
            "21/21 [==============================] - 0s 2ms/step - loss: 0.1009 - accuracy: 0.9714\n",
            "Epoch 104/200\n",
            "21/21 [==============================] - 0s 2ms/step - loss: 0.1502 - accuracy: 0.9619\n",
            "Epoch 105/200\n",
            "21/21 [==============================] - 0s 2ms/step - loss: 0.0811 - accuracy: 0.9714\n",
            "Epoch 106/200\n",
            "21/21 [==============================] - 0s 2ms/step - loss: 0.1667 - accuracy: 0.9238\n",
            "Epoch 107/200\n",
            "21/21 [==============================] - 0s 2ms/step - loss: 0.1087 - accuracy: 0.9619\n",
            "Epoch 108/200\n",
            "21/21 [==============================] - 0s 2ms/step - loss: 0.1135 - accuracy: 0.9333\n",
            "Epoch 109/200\n",
            "21/21 [==============================] - 0s 2ms/step - loss: 0.1267 - accuracy: 0.9333\n",
            "Epoch 110/200\n",
            "21/21 [==============================] - 0s 2ms/step - loss: 0.1775 - accuracy: 0.9524\n",
            "Epoch 111/200\n",
            "21/21 [==============================] - 0s 2ms/step - loss: 0.1574 - accuracy: 0.9429\n",
            "Epoch 112/200\n",
            "21/21 [==============================] - 0s 2ms/step - loss: 0.1251 - accuracy: 0.9429\n",
            "Epoch 113/200\n",
            "21/21 [==============================] - 0s 2ms/step - loss: 0.1659 - accuracy: 0.9524\n",
            "Epoch 114/200\n",
            "21/21 [==============================] - 0s 3ms/step - loss: 0.1675 - accuracy: 0.9333\n",
            "Epoch 115/200\n",
            "21/21 [==============================] - 0s 3ms/step - loss: 0.1253 - accuracy: 0.9714\n",
            "Epoch 116/200\n",
            "21/21 [==============================] - 0s 3ms/step - loss: 0.2151 - accuracy: 0.9238\n",
            "Epoch 117/200\n",
            "21/21 [==============================] - 0s 3ms/step - loss: 0.1211 - accuracy: 0.9524\n",
            "Epoch 118/200\n",
            "21/21 [==============================] - 0s 3ms/step - loss: 0.1950 - accuracy: 0.9333\n",
            "Epoch 119/200\n",
            "21/21 [==============================] - 0s 3ms/step - loss: 0.1444 - accuracy: 0.9333\n",
            "Epoch 120/200\n",
            "21/21 [==============================] - 0s 3ms/step - loss: 0.1271 - accuracy: 0.9333\n",
            "Epoch 121/200\n",
            "21/21 [==============================] - 0s 3ms/step - loss: 0.0986 - accuracy: 0.9619\n",
            "Epoch 122/200\n",
            "21/21 [==============================] - 0s 3ms/step - loss: 0.1810 - accuracy: 0.8952\n",
            "Epoch 123/200\n",
            "21/21 [==============================] - 0s 3ms/step - loss: 0.1420 - accuracy: 0.9524\n",
            "Epoch 124/200\n",
            "21/21 [==============================] - 0s 3ms/step - loss: 0.1183 - accuracy: 0.9524\n",
            "Epoch 125/200\n",
            "21/21 [==============================] - 0s 3ms/step - loss: 0.1008 - accuracy: 0.9714\n",
            "Epoch 126/200\n",
            "21/21 [==============================] - 0s 3ms/step - loss: 0.1392 - accuracy: 0.9333\n",
            "Epoch 127/200\n",
            "21/21 [==============================] - 0s 3ms/step - loss: 0.1519 - accuracy: 0.9429\n",
            "Epoch 128/200\n",
            "21/21 [==============================] - 0s 3ms/step - loss: 0.0876 - accuracy: 0.9524\n",
            "Epoch 129/200\n",
            "21/21 [==============================] - 0s 3ms/step - loss: 0.1925 - accuracy: 0.9238\n",
            "Epoch 130/200\n",
            "21/21 [==============================] - 0s 4ms/step - loss: 0.1299 - accuracy: 0.9619\n",
            "Epoch 131/200\n",
            "21/21 [==============================] - 0s 3ms/step - loss: 0.1144 - accuracy: 0.9333\n",
            "Epoch 132/200\n",
            "21/21 [==============================] - 0s 3ms/step - loss: 0.1862 - accuracy: 0.9143\n",
            "Epoch 133/200\n",
            "21/21 [==============================] - 0s 2ms/step - loss: 0.1513 - accuracy: 0.9333\n",
            "Epoch 134/200\n",
            "21/21 [==============================] - 0s 2ms/step - loss: 0.1347 - accuracy: 0.9429\n",
            "Epoch 135/200\n",
            "21/21 [==============================] - 0s 3ms/step - loss: 0.0809 - accuracy: 0.9714\n",
            "Epoch 136/200\n",
            "21/21 [==============================] - 0s 3ms/step - loss: 0.2018 - accuracy: 0.9238\n",
            "Epoch 137/200\n",
            "21/21 [==============================] - 0s 3ms/step - loss: 0.0837 - accuracy: 0.9810\n",
            "Epoch 138/200\n",
            "21/21 [==============================] - 0s 3ms/step - loss: 0.1030 - accuracy: 0.9714\n",
            "Epoch 139/200\n",
            "21/21 [==============================] - 0s 3ms/step - loss: 0.1233 - accuracy: 0.9619\n",
            "Epoch 140/200\n",
            "21/21 [==============================] - 0s 3ms/step - loss: 0.0754 - accuracy: 0.9905\n",
            "Epoch 141/200\n",
            "21/21 [==============================] - 0s 3ms/step - loss: 0.1673 - accuracy: 0.9143\n",
            "Epoch 142/200\n",
            "21/21 [==============================] - 0s 3ms/step - loss: 0.1429 - accuracy: 0.9524\n",
            "Epoch 143/200\n",
            "21/21 [==============================] - 0s 3ms/step - loss: 0.1333 - accuracy: 0.9619\n",
            "Epoch 144/200\n",
            "21/21 [==============================] - 0s 3ms/step - loss: 0.0889 - accuracy: 0.9905\n",
            "Epoch 145/200\n",
            "21/21 [==============================] - 0s 3ms/step - loss: 0.1134 - accuracy: 0.9714\n",
            "Epoch 146/200\n",
            "21/21 [==============================] - 0s 2ms/step - loss: 0.1474 - accuracy: 0.9619\n",
            "Epoch 147/200\n",
            "21/21 [==============================] - 0s 2ms/step - loss: 0.1368 - accuracy: 0.9524\n",
            "Epoch 148/200\n",
            "21/21 [==============================] - 0s 2ms/step - loss: 0.1288 - accuracy: 0.9238\n",
            "Epoch 149/200\n",
            "21/21 [==============================] - 0s 2ms/step - loss: 0.0856 - accuracy: 0.9714\n",
            "Epoch 150/200\n",
            "21/21 [==============================] - 0s 2ms/step - loss: 0.1356 - accuracy: 0.9619\n",
            "Epoch 151/200\n",
            "21/21 [==============================] - 0s 2ms/step - loss: 0.1593 - accuracy: 0.9429\n",
            "Epoch 152/200\n",
            "21/21 [==============================] - 0s 2ms/step - loss: 0.1579 - accuracy: 0.9524\n",
            "Epoch 153/200\n",
            "21/21 [==============================] - 0s 2ms/step - loss: 0.1257 - accuracy: 0.9619\n",
            "Epoch 154/200\n",
            "21/21 [==============================] - 0s 2ms/step - loss: 0.0364 - accuracy: 0.9905\n",
            "Epoch 155/200\n",
            "21/21 [==============================] - 0s 2ms/step - loss: 0.0935 - accuracy: 0.9524\n",
            "Epoch 156/200\n",
            "21/21 [==============================] - 0s 2ms/step - loss: 0.1127 - accuracy: 0.9524\n",
            "Epoch 157/200\n",
            "21/21 [==============================] - 0s 2ms/step - loss: 0.1072 - accuracy: 0.9429\n",
            "Epoch 158/200\n",
            "21/21 [==============================] - 0s 2ms/step - loss: 0.0998 - accuracy: 0.9619\n",
            "Epoch 159/200\n",
            "21/21 [==============================] - 0s 2ms/step - loss: 0.0814 - accuracy: 0.9714\n",
            "Epoch 160/200\n",
            "21/21 [==============================] - 0s 2ms/step - loss: 0.0705 - accuracy: 0.9905\n",
            "Epoch 161/200\n",
            "21/21 [==============================] - 0s 2ms/step - loss: 0.1190 - accuracy: 0.9238\n",
            "Epoch 162/200\n",
            "21/21 [==============================] - 0s 2ms/step - loss: 0.0708 - accuracy: 0.9619\n",
            "Epoch 163/200\n",
            "21/21 [==============================] - 0s 2ms/step - loss: 0.0905 - accuracy: 0.9524\n",
            "Epoch 164/200\n",
            "21/21 [==============================] - 0s 2ms/step - loss: 0.0653 - accuracy: 0.9810\n",
            "Epoch 165/200\n",
            "21/21 [==============================] - 0s 2ms/step - loss: 0.1542 - accuracy: 0.9524\n",
            "Epoch 166/200\n",
            "21/21 [==============================] - 0s 2ms/step - loss: 0.1317 - accuracy: 0.9429\n",
            "Epoch 167/200\n",
            "21/21 [==============================] - 0s 2ms/step - loss: 0.0829 - accuracy: 0.9810\n",
            "Epoch 168/200\n",
            "21/21 [==============================] - 0s 2ms/step - loss: 0.1356 - accuracy: 0.9429\n",
            "Epoch 169/200\n",
            "21/21 [==============================] - 0s 2ms/step - loss: 0.1190 - accuracy: 0.9429\n",
            "Epoch 170/200\n",
            "21/21 [==============================] - 0s 2ms/step - loss: 0.0921 - accuracy: 0.9429\n",
            "Epoch 171/200\n",
            "21/21 [==============================] - 0s 2ms/step - loss: 0.0882 - accuracy: 0.9714\n",
            "Epoch 172/200\n",
            "21/21 [==============================] - 0s 2ms/step - loss: 0.1358 - accuracy: 0.9429\n",
            "Epoch 173/200\n",
            "21/21 [==============================] - 0s 2ms/step - loss: 0.0585 - accuracy: 0.9619\n",
            "Epoch 174/200\n",
            "21/21 [==============================] - 0s 2ms/step - loss: 0.0953 - accuracy: 0.9524\n",
            "Epoch 175/200\n",
            "21/21 [==============================] - 0s 2ms/step - loss: 0.0920 - accuracy: 0.9619\n",
            "Epoch 176/200\n",
            "21/21 [==============================] - 0s 2ms/step - loss: 0.0935 - accuracy: 0.9619\n",
            "Epoch 177/200\n",
            "21/21 [==============================] - 0s 2ms/step - loss: 0.0995 - accuracy: 0.9524\n",
            "Epoch 178/200\n",
            "21/21 [==============================] - 0s 3ms/step - loss: 0.1106 - accuracy: 0.9619\n",
            "Epoch 179/200\n",
            "21/21 [==============================] - 0s 4ms/step - loss: 0.1192 - accuracy: 0.9429\n",
            "Epoch 180/200\n",
            "21/21 [==============================] - 0s 5ms/step - loss: 0.1149 - accuracy: 0.9524\n",
            "Epoch 181/200\n",
            "21/21 [==============================] - 0s 4ms/step - loss: 0.0935 - accuracy: 0.9714\n",
            "Epoch 182/200\n",
            "21/21 [==============================] - 0s 3ms/step - loss: 0.1361 - accuracy: 0.9524\n",
            "Epoch 183/200\n",
            "21/21 [==============================] - 0s 2ms/step - loss: 0.0650 - accuracy: 0.9810\n",
            "Epoch 184/200\n",
            "21/21 [==============================] - 0s 2ms/step - loss: 0.0857 - accuracy: 0.9714\n",
            "Epoch 185/200\n",
            "21/21 [==============================] - 0s 3ms/step - loss: 0.1022 - accuracy: 0.9524\n",
            "Epoch 186/200\n",
            "21/21 [==============================] - 0s 2ms/step - loss: 0.0779 - accuracy: 0.9810\n",
            "Epoch 187/200\n",
            "21/21 [==============================] - 0s 2ms/step - loss: 0.0862 - accuracy: 0.9619\n",
            "Epoch 188/200\n",
            "21/21 [==============================] - 0s 2ms/step - loss: 0.0826 - accuracy: 0.9619\n",
            "Epoch 189/200\n",
            "21/21 [==============================] - 0s 2ms/step - loss: 0.0783 - accuracy: 0.9714\n",
            "Epoch 190/200\n",
            "21/21 [==============================] - 0s 2ms/step - loss: 0.0878 - accuracy: 0.9619\n",
            "Epoch 191/200\n",
            "21/21 [==============================] - 0s 2ms/step - loss: 0.0808 - accuracy: 0.9619\n",
            "Epoch 192/200\n",
            "21/21 [==============================] - 0s 2ms/step - loss: 0.1552 - accuracy: 0.9333\n",
            "Epoch 193/200\n",
            "21/21 [==============================] - 0s 9ms/step - loss: 0.0514 - accuracy: 0.9810\n",
            "Epoch 194/200\n",
            "21/21 [==============================] - 0s 4ms/step - loss: 0.0895 - accuracy: 0.9619\n",
            "Epoch 195/200\n",
            "21/21 [==============================] - 0s 3ms/step - loss: 0.1007 - accuracy: 0.9524\n",
            "Epoch 196/200\n",
            "21/21 [==============================] - 0s 2ms/step - loss: 0.0607 - accuracy: 0.9714\n",
            "Epoch 197/200\n",
            "21/21 [==============================] - 0s 2ms/step - loss: 0.0665 - accuracy: 0.9810\n",
            "Epoch 198/200\n",
            "21/21 [==============================] - 0s 2ms/step - loss: 0.0673 - accuracy: 0.9810\n",
            "Epoch 199/200\n",
            "21/21 [==============================] - 0s 2ms/step - loss: 0.1066 - accuracy: 0.9524\n",
            "Epoch 200/200\n",
            "21/21 [==============================] - 0s 2ms/step - loss: 0.0901 - accuracy: 0.9429\n",
            "Model created\n"
          ]
        },
        {
          "output_type": "stream",
          "name": "stderr",
          "text": [
            "/usr/local/lib/python3.10/dist-packages/keras/src/engine/training.py:3103: UserWarning: You are saving your model as an HDF5 file via `model.save()`. This file format is considered legacy. We recommend using instead the native Keras format, e.g. `model.save('my_model.keras')`.\n",
            "  saving_api.save_model(\n"
          ]
        }
      ],
      "source": [
        "from keras.optimizers import SGD\n",
        "from keras.optimizers import schedules\n",
        "\n",
        "# Define the learning rate schedule\n",
        "learning_rate = 0.01\n",
        "learning_rate_schedule = schedules.ExponentialDecay(\n",
        "    initial_learning_rate=learning_rate,\n",
        "    decay_steps=10000,\n",
        "    decay_rate=0.96,\n",
        "    staircase=True\n",
        ")\n",
        "\n",
        "# Create model - 3 layers\n",
        "model = Sequential()\n",
        "model.add(Dense(128, input_shape=(len(train_x[0]),), activation='relu'))\n",
        "model.add(Dropout(0.5))\n",
        "model.add(Dense(64, activation='relu'))\n",
        "model.add(Dropout(0.5))\n",
        "model.add(Dense(len(train_y[0]), activation='softmax'))\n",
        "\n",
        "# Compile model. Stochastic gradient descent with Nesterov accelerated gradient\n",
        "# gives good results for this model\n",
        "sgd = SGD(learning_rate=learning_rate_schedule, momentum=0.9, nesterov=True)\n",
        "model.compile(loss='categorical_crossentropy', optimizer=sgd, metrics=['accuracy'])\n",
        "\n",
        "# Fitting and saving the model\n",
        "hist = model.fit(np.array(train_x), np.array(train_y), epochs=200, batch_size=5, verbose=1)\n",
        "model.save('chatbot_model.h5', hist)\n",
        "\n",
        "print(\"Model created\")\n"
      ]
    },
    {
      "cell_type": "code",
      "execution_count": 40,
      "metadata": {
        "id": "TeLLKT5RvvND"
      },
      "outputs": [],
      "source": [
        "from keras.models import load_model\n",
        "model = load_model('chatbot_model.h5')\n",
        "import json\n",
        "import random\n",
        "intents = json.loads(open('intents.json').read())\n",
        "words = pickle.load(open('words.pkl','rb'))\n",
        "classes = pickle.load(open('classes.pkl','rb'))"
      ]
    },
    {
      "cell_type": "code",
      "execution_count": 41,
      "metadata": {
        "id": "M2IwwmBdvvNE"
      },
      "outputs": [],
      "source": [
        "def clean_up_sentence(sentence):\n",
        "    # tokenize the pattern - split words into array\n",
        "    sentence_words = nltk.word_tokenize(sentence)\n",
        "    # stem each word - create short form for word\n",
        "    sentence_words = [lemmatizer.lemmatize(word.lower()) for word in sentence_words]\n",
        "    return sentence_words\n",
        "# return bag of words array: 0 or 1 for each word in the bag that exists in the sentence"
      ]
    },
    {
      "cell_type": "code",
      "execution_count": 42,
      "metadata": {
        "id": "JaR_zLesvvNE"
      },
      "outputs": [],
      "source": [
        "def bow(sentence, words, show_details=True):\n",
        "    # tokenize the pattern\n",
        "    sentence_words = clean_up_sentence(sentence)\n",
        "    # bag of words - matrix of N words, vocabulary matrix\n",
        "    bag = [0]*len(words)\n",
        "    for s in sentence_words:\n",
        "        for i,w in enumerate(words):\n",
        "            if w == s:\n",
        "                # assign 1 if current word is in the vocabulary position\n",
        "                bag[i] = 1\n",
        "                if show_details:\n",
        "                    print (\"found in bag: %s\" % w)\n",
        "    return(np.array(bag))"
      ]
    },
    {
      "cell_type": "code",
      "execution_count": 43,
      "metadata": {
        "id": "BVgSWwLVvvNE"
      },
      "outputs": [],
      "source": [
        "def predict_class(sentence, model):\n",
        "    # filter out predictions below a threshold\n",
        "    p = bow(sentence, words,show_details=False)\n",
        "    res = model.predict(np.array([p]))[0]\n",
        "    ERROR_THRESHOLD = 0.25\n",
        "    results = [[i,r] for i,r in enumerate(res) if r>ERROR_THRESHOLD]\n",
        "    # sort by strength of probability\n",
        "    results.sort(key=lambda x: x[1], reverse=True)\n",
        "    return_list = []\n",
        "    for r in results:\n",
        "        return_list.append({\"intent\": classes[r[0]], \"probability\": str(r[1])})\n",
        "    return return_list"
      ]
    },
    {
      "cell_type": "code",
      "execution_count": 44,
      "metadata": {
        "id": "TVoJQ1OwvvNE"
      },
      "outputs": [],
      "source": [
        "def getResponse(ints, intents_json):\n",
        "    tag = ints[0]['intent']\n",
        "    list_of_intents = intents_json['intents']\n",
        "    for i in list_of_intents:\n",
        "        if(i['tag']== tag):\n",
        "            result = random.choice(i['responses'])\n",
        "            break\n",
        "    return result"
      ]
    },
    {
      "cell_type": "code",
      "execution_count": 45,
      "metadata": {
        "id": "y5HSPSz6vvNF"
      },
      "outputs": [],
      "source": [
        "def chatbot_response(text):\n",
        "    ints = predict_class(text, model)\n",
        "    res = getResponse(ints, intents)\n",
        "    return res"
      ]
    },
    {
      "cell_type": "markdown",
      "metadata": {
        "id": "M3dpVB0rvvNF"
      },
      "source": [
        "## GUI Interface"
      ]
    },
    {
      "cell_type": "code",
      "execution_count": null,
      "metadata": {
        "id": "O-jTnfGyvvNF"
      },
      "outputs": [],
      "source": [
        "import tkinter\n",
        "from tkinter import *\n",
        "\n",
        "BG_GRAY = \"#ABB2B9\"\n",
        "BG_COLOR = \"#c5f0e3\"\n",
        "TEXT_COLOR = \"#000000\"\n",
        "\n",
        "# BG_GRAY = \"#ABB2B9\"\n",
        "# BG_COLOR = \"#1c172a\"\n",
        "# TEXT_COLOR = \"#ffffff\"\n",
        "\n",
        "\n",
        "FONT = \"Helvetica 14\"\n",
        "FONT_BOLD = \"Helvetica 13 bold\"\n",
        "\n",
        "\n",
        "def send(event):\n",
        "    msg = EntryBox.get(\"1.0\",'end-1c').strip()\n",
        "    EntryBox.delete(\"0.0\",END)\n",
        "    if msg != '':\n",
        "        ChatLog.config(state=NORMAL)\n",
        "        ChatLog.insert(END, \"You: \" + msg + '\\n\\n')\n",
        "        ChatLog.config(foreground=\"#000000\", font=(\"Verdana\", 12 ))\n",
        "\n",
        "        res = chatbot_response(msg)\n",
        "        ChatLog.insert(END, \"Bot: \" + res + '\\n\\n')\n",
        "\n",
        "        ChatLog.config(state=DISABLED)\n",
        "        ChatLog.yview(END)\n",
        "\n",
        "\n",
        "base = Tk()\n",
        "base.title(\"E-Commerce Chatbot\")\n",
        "base.resizable(width=FALSE, height=FALSE)\n",
        "base.configure(width=800, height=800, bg=BG_COLOR)\n",
        "\n",
        "\n",
        "#Create Chat window\n",
        "ChatLog = Text(base, bd=0, bg=BG_COLOR, fg=TEXT_COLOR, font=FONT_BOLD)\n",
        "ChatLog.config(state=DISABLED)\n",
        "\n",
        "head_label = Label(base, bg=BG_COLOR, fg=TEXT_COLOR, text=\"Welcome to E-Commerce Chatbot\", font=FONT_BOLD, pady=10)\n",
        "head_label.place(relwidth=1)\n",
        "\n",
        "line = Label(base, width=450, bg=BG_GRAY)\n",
        "\n",
        "\n",
        "#Bind scrollbar to Chat window\n",
        "scrollbar = Scrollbar(base, command=ChatLog.yview, cursor=\"heart\")\n",
        "ChatLog['yscrollcommand'] = scrollbar.set\n",
        "ChatLog.focus()\n",
        "\n",
        "#Create Button to send message\n",
        "SendButton = Button(base, font=(\"Verdana\", 12,'bold'), text=\"Send\", width=\"12\", height=15,\n",
        "                    bd=0, bg=\"#ed9061\", activebackground=\"#3c9d9b\",fg='#ffffff',\n",
        "                    command=lambda: send)\n",
        "\n",
        "#Create the box to enter message\n",
        "EntryBox = Text(base, bg=\"white\",width=\"29\", height=\"5\", font=\"Arial\", background=\"#dddddd\")\n",
        "EntryBox.focus()\n",
        "EntryBox.bind(\"<Return>\", send)\n",
        "#EntryBox.bind(\"<Return>\", send)\n",
        "\n",
        "# bottom label\n",
        "# bottom_label = Label(base, bg=BG_GRAY, height=80)\n",
        "# bottom_label.place(relwidth=1, rely=0.825)\n",
        "\n",
        "# message entry box\n",
        "#EntryBox = Entry(bottom_label, fg=TEXT_COLOR, font=FONT)\n",
        "# msg_entry.place(relwidth=0.74, relheight=0.06, rely=0.008, |relx=0.011)\n",
        "# msg_entry.focus()\n",
        "\n",
        "\n",
        "#Place all components on the screen\n",
        "# scrollbar.place(relheight=1, relx=0.974)\n",
        "# ChatLog.place(relheight=1, width=1)\n",
        "# EntryBox.place(relwidth=0.74, relheight=0.06, rely=0.008, relx=0.011)\n",
        "# SendButton.place(relx=0.77, rely=0.008, relheight=0.06, relwidth=0.20)\\\n",
        "\n",
        "scrollbar.place(x=775,y=6, height=800)\n",
        "line.place(x=0,y=35, height=1, width=770)\n",
        "ChatLog.place(x=5,y=40, height=700, width=770)\n",
        "EntryBox.place(x=0, y=740, height=60, width=600)\n",
        "SendButton.place(x=600, y=740, height=60, width=175)"
      ]
    },
    {
      "cell_type": "code",
      "execution_count": null,
      "metadata": {
        "id": "2QNDxIPFvvNF",
        "outputId": "7b5a34b7-7e62-4a0c-c019-6c7c57f42c2e"
      },
      "outputs": [
        {
          "name": "stdout",
          "output_type": "stream",
          "text": [
            "1/1 [==============================] - 0s 58ms/step\n",
            "1/1 [==============================] - 0s 12ms/step\n",
            "1/1 [==============================] - 0s 11ms/step\n",
            "1/1 [==============================] - 0s 11ms/step\n",
            "1/1 [==============================] - 0s 12ms/step\n"
          ]
        }
      ],
      "source": [
        "base.mainloop()"
      ]
    }
  ],
  "metadata": {
    "kernelspec": {
      "display_name": "Python 3 (ipykernel)",
      "language": "python",
      "name": "python3"
    },
    "language_info": {
      "codemirror_mode": {
        "name": "ipython",
        "version": 3
      },
      "file_extension": ".py",
      "mimetype": "text/x-python",
      "name": "python",
      "nbconvert_exporter": "python",
      "pygments_lexer": "ipython3",
      "version": "3.9.7"
    },
    "colab": {
      "provenance": []
    }
  },
  "nbformat": 4,
  "nbformat_minor": 0
}